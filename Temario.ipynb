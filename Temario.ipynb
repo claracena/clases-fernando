{
 "cells": [
  {
   "cell_type": "markdown",
   "metadata": {},
   "source": [
    "## Clase 1"
   ]
  },
  {
   "cell_type": "markdown",
   "metadata": {},
   "source": [
    "### 01 - Conceptos Basicos y Sintaxis\n",
    "* Intro a programacion\n",
    "* Intro a Python\n",
    "* Sintaxis de otros lenguajes\n",
    "* Sintaxis de Python"
   ]
  },
  {
   "cell_type": "markdown",
   "metadata": {},
   "source": [
    "### 02 - Preparacion de Visual Studio Code\n",
    "* Instalacion y verificacion de Python\n",
    "* Entorno en VSCode\n",
    "* Extensiones\n",
    "* Tema"
   ]
  },
  {
   "cell_type": "markdown",
   "metadata": {},
   "source": [
    "### 03 - Entornos Virtuales\n",
    "* Que son y por que hay que utilizarlos\n",
    "* Instalacion\n",
    "* requirements.txt"
   ]
  },
  {
   "cell_type": "markdown",
   "metadata": {},
   "source": [
    "## Clase 2"
   ]
  },
  {
   "cell_type": "markdown",
   "metadata": {},
   "source": [
    "### 04 - Variables y Tipos de Datos\n",
    "* Que es una variable y como se almacena\n",
    "* Data Types\n",
    "* Typing en Python"
   ]
  },
  {
   "cell_type": "markdown",
   "metadata": {},
   "source": [
    "## Clase 3"
   ]
  },
  {
   "cell_type": "markdown",
   "metadata": {},
   "source": [
    "### 05 - Operadores\n",
    "* Operadores Aritmeticos\n",
    "* Operadores de Comparacion\n",
    "* Operadores Logicos\n",
    "* Operadores de Asignacion\n",
    "* Operadores Bitwise\n",
    "* Operadores de Membresia\n",
    "* Operadores de Identidad"
   ]
  },
  {
   "cell_type": "markdown",
   "metadata": {},
   "source": [
    "## Clase 4 / 5"
   ]
  },
  {
   "cell_type": "markdown",
   "metadata": {},
   "source": [
    "### 06 - Condicionales\n",
    "* If, Elif, Else\n",
    "* Nested Ifs"
   ]
  },
  {
   "cell_type": "markdown",
   "metadata": {},
   "source": [
    "### 07 - Loops\n",
    "* Iterables\n",
    "* Que son y cuando usarlos\n",
    "* For loops\n",
    "* While loops"
   ]
  },
  {
   "cell_type": "markdown",
   "metadata": {},
   "source": [
    "## Clase 6"
   ]
  },
  {
   "cell_type": "markdown",
   "metadata": {},
   "source": [
    "### 08 - Funciones Integradas (Built-In functions)\n",
    "* https://www.w3schools.com/python/python_ref_functions.asp"
   ]
  },
  {
   "cell_type": "markdown",
   "metadata": {},
   "source": [
    "## Clase 7"
   ]
  },
  {
   "cell_type": "markdown",
   "metadata": {},
   "source": [
    "### 09 - Funciones, atributos y parametros"
   ]
  },
  {
   "cell_type": "markdown",
   "metadata": {},
   "source": [
    "## Clase 8 y 9"
   ]
  },
  {
   "cell_type": "markdown",
   "metadata": {},
   "source": [
    "### 10 - Clases"
   ]
  },
  {
   "cell_type": "markdown",
   "metadata": {},
   "source": [
    "## Clase 10"
   ]
  },
  {
   "cell_type": "markdown",
   "metadata": {},
   "source": [
    "### 11 - Debugging y Try/Except"
   ]
  },
  {
   "cell_type": "markdown",
   "metadata": {},
   "source": [
    "## Clase 11"
   ]
  },
  {
   "cell_type": "markdown",
   "metadata": {},
   "source": [
    "### 12 - Contexto y archivos"
   ]
  },
  {
   "cell_type": "markdown",
   "metadata": {},
   "source": [
    "## Clase 12"
   ]
  },
  {
   "cell_type": "markdown",
   "metadata": {},
   "source": [
    "### 13 - Fecha y Hora"
   ]
  },
  {
   "cell_type": "markdown",
   "metadata": {},
   "source": [
    "## Clase 13"
   ]
  },
  {
   "cell_type": "markdown",
   "metadata": {},
   "source": [
    "### 14 - Recursividad"
   ]
  }
 ],
 "metadata": {
  "kernelspec": {
   "display_name": "Python 3.10.4 64-bit",
   "language": "python",
   "name": "python3"
  },
  "language_info": {
   "name": "python",
   "version": "3.10.5"
  },
  "orig_nbformat": 4,
  "vscode": {
   "interpreter": {
    "hash": "ccb335fc3a34a167929ef9407818aed77ac4e39544d0e28d05d2bc7815f642b7"
   }
  }
 },
 "nbformat": 4,
 "nbformat_minor": 2
}
